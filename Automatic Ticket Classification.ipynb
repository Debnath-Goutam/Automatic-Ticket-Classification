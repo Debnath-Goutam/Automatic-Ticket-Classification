{
 "cells": [
  {
   "cell_type": "markdown",
   "id": "98dc7fa8-a4e1-48ac-b1fb-86513d8c9c6c",
   "metadata": {},
   "source": [
    "# Importing necessary libraries"
   ]
  },
  {
   "cell_type": "code",
   "execution_count": 26,
   "id": "8f27aac2-dddd-4a27-b9b9-2cc336f9b5da",
   "metadata": {},
   "outputs": [],
   "source": [
    "import json\n",
    "import numpy as np\n",
    "import pandas as pd\n",
    "import re, nltk, spacy, string\n",
    "import en_core_web_sm\n",
    "nlp = en_core_web_sm.load()\n",
    "import seaborn as sns\n",
    "import matplotlib.pyplot as plt\n",
    "%matplotlib inline\n",
    "\n",
    "from plotly.offline import plot\n",
    "import plotly.graph_objects as go\n",
    "import plotly.express as px\n",
    "\n",
    "from sklearn.feature_extraction.text import CountVectorizer, TfidfVectorizer\n",
    "from pprint import pprint"
   ]
  },
  {
   "cell_type": "markdown",
   "id": "8d7a51dc-44c7-4b76-ba05-ee890c9be380",
   "metadata": {},
   "source": [
    "# Reading and Understading the data"
   ]
  },
  {
   "cell_type": "code",
   "execution_count": 27,
   "id": "abba65ba-0e56-458b-a24e-08f89dbf5a35",
   "metadata": {},
   "outputs": [],
   "source": [
    "f = 'complaints-2021-05-14_08_16.json'\n",
    "\n",
    "with open(f, 'r') as file:\n",
    "    data = json.load(file)\n",
    "    \n",
    "dataset=pd.json_normalize(data)"
   ]
  },
  {
   "cell_type": "code",
   "execution_count": 28,
   "id": "11e1eb45-c21a-4b24-90fa-47774f20854f",
   "metadata": {},
   "outputs": [
    {
     "data": {
      "text/html": [
       "<div>\n",
       "<style scoped>\n",
       "    .dataframe tbody tr th:only-of-type {\n",
       "        vertical-align: middle;\n",
       "    }\n",
       "\n",
       "    .dataframe tbody tr th {\n",
       "        vertical-align: top;\n",
       "    }\n",
       "\n",
       "    .dataframe thead th {\n",
       "        text-align: right;\n",
       "    }\n",
       "</style>\n",
       "<table border=\"1\" class=\"dataframe\">\n",
       "  <thead>\n",
       "    <tr style=\"text-align: right;\">\n",
       "      <th></th>\n",
       "      <th>_index</th>\n",
       "      <th>_type</th>\n",
       "      <th>_id</th>\n",
       "      <th>_score</th>\n",
       "      <th>_source.tags</th>\n",
       "      <th>_source.zip_code</th>\n",
       "      <th>_source.complaint_id</th>\n",
       "      <th>_source.issue</th>\n",
       "      <th>_source.date_received</th>\n",
       "      <th>_source.state</th>\n",
       "      <th>...</th>\n",
       "      <th>_source.company_response</th>\n",
       "      <th>_source.company</th>\n",
       "      <th>_source.submitted_via</th>\n",
       "      <th>_source.date_sent_to_company</th>\n",
       "      <th>_source.company_public_response</th>\n",
       "      <th>_source.sub_product</th>\n",
       "      <th>_source.timely</th>\n",
       "      <th>_source.complaint_what_happened</th>\n",
       "      <th>_source.sub_issue</th>\n",
       "      <th>_source.consumer_consent_provided</th>\n",
       "    </tr>\n",
       "  </thead>\n",
       "  <tbody>\n",
       "    <tr>\n",
       "      <th>0</th>\n",
       "      <td>complaint-public-v2</td>\n",
       "      <td>complaint</td>\n",
       "      <td>3211475</td>\n",
       "      <td>0.0</td>\n",
       "      <td>None</td>\n",
       "      <td>90301</td>\n",
       "      <td>3211475</td>\n",
       "      <td>Attempts to collect debt not owed</td>\n",
       "      <td>2019-04-13T12:00:00-05:00</td>\n",
       "      <td>CA</td>\n",
       "      <td>...</td>\n",
       "      <td>Closed with explanation</td>\n",
       "      <td>JPMORGAN CHASE &amp; CO.</td>\n",
       "      <td>Web</td>\n",
       "      <td>2019-04-13T12:00:00-05:00</td>\n",
       "      <td>None</td>\n",
       "      <td>Credit card debt</td>\n",
       "      <td>Yes</td>\n",
       "      <td></td>\n",
       "      <td>Debt is not yours</td>\n",
       "      <td>Consent not provided</td>\n",
       "    </tr>\n",
       "    <tr>\n",
       "      <th>1</th>\n",
       "      <td>complaint-public-v2</td>\n",
       "      <td>complaint</td>\n",
       "      <td>3229299</td>\n",
       "      <td>0.0</td>\n",
       "      <td>Servicemember</td>\n",
       "      <td>319XX</td>\n",
       "      <td>3229299</td>\n",
       "      <td>Written notification about debt</td>\n",
       "      <td>2019-05-01T12:00:00-05:00</td>\n",
       "      <td>GA</td>\n",
       "      <td>...</td>\n",
       "      <td>Closed with explanation</td>\n",
       "      <td>JPMORGAN CHASE &amp; CO.</td>\n",
       "      <td>Web</td>\n",
       "      <td>2019-05-01T12:00:00-05:00</td>\n",
       "      <td>None</td>\n",
       "      <td>Credit card debt</td>\n",
       "      <td>Yes</td>\n",
       "      <td>Good morning my name is XXXX XXXX and I apprec...</td>\n",
       "      <td>Didn't receive enough information to verify debt</td>\n",
       "      <td>Consent provided</td>\n",
       "    </tr>\n",
       "    <tr>\n",
       "      <th>2</th>\n",
       "      <td>complaint-public-v2</td>\n",
       "      <td>complaint</td>\n",
       "      <td>3199379</td>\n",
       "      <td>0.0</td>\n",
       "      <td>None</td>\n",
       "      <td>77069</td>\n",
       "      <td>3199379</td>\n",
       "      <td>Other features, terms, or problems</td>\n",
       "      <td>2019-04-02T12:00:00-05:00</td>\n",
       "      <td>TX</td>\n",
       "      <td>...</td>\n",
       "      <td>Closed with explanation</td>\n",
       "      <td>JPMORGAN CHASE &amp; CO.</td>\n",
       "      <td>Web</td>\n",
       "      <td>2019-04-02T12:00:00-05:00</td>\n",
       "      <td>None</td>\n",
       "      <td>General-purpose credit card or charge card</td>\n",
       "      <td>Yes</td>\n",
       "      <td>I upgraded my XXXX XXXX card in XX/XX/2018 and...</td>\n",
       "      <td>Problem with rewards from credit card</td>\n",
       "      <td>Consent provided</td>\n",
       "    </tr>\n",
       "    <tr>\n",
       "      <th>3</th>\n",
       "      <td>complaint-public-v2</td>\n",
       "      <td>complaint</td>\n",
       "      <td>2673060</td>\n",
       "      <td>0.0</td>\n",
       "      <td>None</td>\n",
       "      <td>48066</td>\n",
       "      <td>2673060</td>\n",
       "      <td>Trouble during payment process</td>\n",
       "      <td>2017-09-13T12:00:00-05:00</td>\n",
       "      <td>MI</td>\n",
       "      <td>...</td>\n",
       "      <td>Closed with explanation</td>\n",
       "      <td>JPMORGAN CHASE &amp; CO.</td>\n",
       "      <td>Web</td>\n",
       "      <td>2017-09-14T12:00:00-05:00</td>\n",
       "      <td>None</td>\n",
       "      <td>Conventional home mortgage</td>\n",
       "      <td>Yes</td>\n",
       "      <td></td>\n",
       "      <td>None</td>\n",
       "      <td>Consent not provided</td>\n",
       "    </tr>\n",
       "    <tr>\n",
       "      <th>4</th>\n",
       "      <td>complaint-public-v2</td>\n",
       "      <td>complaint</td>\n",
       "      <td>3203545</td>\n",
       "      <td>0.0</td>\n",
       "      <td>None</td>\n",
       "      <td>10473</td>\n",
       "      <td>3203545</td>\n",
       "      <td>Fees or interest</td>\n",
       "      <td>2019-04-05T12:00:00-05:00</td>\n",
       "      <td>NY</td>\n",
       "      <td>...</td>\n",
       "      <td>Closed with explanation</td>\n",
       "      <td>JPMORGAN CHASE &amp; CO.</td>\n",
       "      <td>Referral</td>\n",
       "      <td>2019-04-05T12:00:00-05:00</td>\n",
       "      <td>None</td>\n",
       "      <td>General-purpose credit card or charge card</td>\n",
       "      <td>Yes</td>\n",
       "      <td></td>\n",
       "      <td>Charged too much interest</td>\n",
       "      <td>N/A</td>\n",
       "    </tr>\n",
       "  </tbody>\n",
       "</table>\n",
       "<p>5 rows × 22 columns</p>\n",
       "</div>"
      ],
      "text/plain": [
       "                _index      _type      _id  _score   _source.tags  \\\n",
       "0  complaint-public-v2  complaint  3211475     0.0           None   \n",
       "1  complaint-public-v2  complaint  3229299     0.0  Servicemember   \n",
       "2  complaint-public-v2  complaint  3199379     0.0           None   \n",
       "3  complaint-public-v2  complaint  2673060     0.0           None   \n",
       "4  complaint-public-v2  complaint  3203545     0.0           None   \n",
       "\n",
       "  _source.zip_code _source.complaint_id                       _source.issue  \\\n",
       "0            90301              3211475   Attempts to collect debt not owed   \n",
       "1            319XX              3229299     Written notification about debt   \n",
       "2            77069              3199379  Other features, terms, or problems   \n",
       "3            48066              2673060      Trouble during payment process   \n",
       "4            10473              3203545                    Fees or interest   \n",
       "\n",
       "       _source.date_received _source.state  ... _source.company_response  \\\n",
       "0  2019-04-13T12:00:00-05:00            CA  ...  Closed with explanation   \n",
       "1  2019-05-01T12:00:00-05:00            GA  ...  Closed with explanation   \n",
       "2  2019-04-02T12:00:00-05:00            TX  ...  Closed with explanation   \n",
       "3  2017-09-13T12:00:00-05:00            MI  ...  Closed with explanation   \n",
       "4  2019-04-05T12:00:00-05:00            NY  ...  Closed with explanation   \n",
       "\n",
       "        _source.company _source.submitted_via _source.date_sent_to_company  \\\n",
       "0  JPMORGAN CHASE & CO.                   Web    2019-04-13T12:00:00-05:00   \n",
       "1  JPMORGAN CHASE & CO.                   Web    2019-05-01T12:00:00-05:00   \n",
       "2  JPMORGAN CHASE & CO.                   Web    2019-04-02T12:00:00-05:00   \n",
       "3  JPMORGAN CHASE & CO.                   Web    2017-09-14T12:00:00-05:00   \n",
       "4  JPMORGAN CHASE & CO.              Referral    2019-04-05T12:00:00-05:00   \n",
       "\n",
       "  _source.company_public_response                         _source.sub_product  \\\n",
       "0                            None                            Credit card debt   \n",
       "1                            None                            Credit card debt   \n",
       "2                            None  General-purpose credit card or charge card   \n",
       "3                            None                  Conventional home mortgage   \n",
       "4                            None  General-purpose credit card or charge card   \n",
       "\n",
       "  _source.timely                    _source.complaint_what_happened  \\\n",
       "0            Yes                                                      \n",
       "1            Yes  Good morning my name is XXXX XXXX and I apprec...   \n",
       "2            Yes  I upgraded my XXXX XXXX card in XX/XX/2018 and...   \n",
       "3            Yes                                                      \n",
       "4            Yes                                                      \n",
       "\n",
       "                                  _source.sub_issue  \\\n",
       "0                                 Debt is not yours   \n",
       "1  Didn't receive enough information to verify debt   \n",
       "2             Problem with rewards from credit card   \n",
       "3                                              None   \n",
       "4                         Charged too much interest   \n",
       "\n",
       "  _source.consumer_consent_provided  \n",
       "0              Consent not provided  \n",
       "1                  Consent provided  \n",
       "2                  Consent provided  \n",
       "3              Consent not provided  \n",
       "4                               N/A  \n",
       "\n",
       "[5 rows x 22 columns]"
      ]
     },
     "execution_count": 28,
     "metadata": {},
     "output_type": "execute_result"
    }
   ],
   "source": [
    "dataset.head()"
   ]
  },
  {
   "cell_type": "markdown",
   "id": "707ead86-b4c4-4191-9ede-239506b9bc34",
   "metadata": {},
   "source": [
    "# Data Cleaning"
   ]
  },
  {
   "cell_type": "code",
   "execution_count": 29,
   "id": "2102c49c-11be-4eaa-a02c-d245be5ef6cb",
   "metadata": {},
   "outputs": [
    {
     "data": {
      "text/plain": [
       "Index(['_index', '_type', '_id', '_score', '_source.tags', '_source.zip_code',\n",
       "       '_source.complaint_id', '_source.issue', '_source.date_received',\n",
       "       '_source.state', '_source.consumer_disputed', '_source.product',\n",
       "       '_source.company_response', '_source.company', '_source.submitted_via',\n",
       "       '_source.date_sent_to_company', '_source.company_public_response',\n",
       "       '_source.sub_product', '_source.timely',\n",
       "       '_source.complaint_what_happened', '_source.sub_issue',\n",
       "       '_source.consumer_consent_provided'],\n",
       "      dtype='object')"
      ]
     },
     "execution_count": 29,
     "metadata": {},
     "output_type": "execute_result"
    }
   ],
   "source": [
    "dataset.columns"
   ]
  },
  {
   "cell_type": "code",
   "execution_count": 30,
   "id": "8e03ad0c-93bd-4c2c-ba39-936c58af444f",
   "metadata": {},
   "outputs": [
    {
     "name": "stdout",
     "output_type": "stream",
     "text": [
      "<class 'pandas.core.frame.DataFrame'>\n",
      "RangeIndex: 78313 entries, 0 to 78312\n",
      "Data columns (total 22 columns):\n",
      " #   Column                             Non-Null Count  Dtype  \n",
      "---  ------                             --------------  -----  \n",
      " 0   _index                             78313 non-null  object \n",
      " 1   _type                              78313 non-null  object \n",
      " 2   _id                                78313 non-null  object \n",
      " 3   _score                             78313 non-null  float64\n",
      " 4   _source.tags                       10900 non-null  object \n",
      " 5   _source.zip_code                   71556 non-null  object \n",
      " 6   _source.complaint_id               78313 non-null  object \n",
      " 7   _source.issue                      78313 non-null  object \n",
      " 8   _source.date_received              78313 non-null  object \n",
      " 9   _source.state                      76322 non-null  object \n",
      " 10  _source.consumer_disputed          78313 non-null  object \n",
      " 11  _source.product                    78313 non-null  object \n",
      " 12  _source.company_response           78313 non-null  object \n",
      " 13  _source.company                    78313 non-null  object \n",
      " 14  _source.submitted_via              78313 non-null  object \n",
      " 15  _source.date_sent_to_company       78313 non-null  object \n",
      " 16  _source.company_public_response    4 non-null      object \n",
      " 17  _source.sub_product                67742 non-null  object \n",
      " 18  _source.timely                     78313 non-null  object \n",
      " 19  _source.complaint_what_happened    78313 non-null  object \n",
      " 20  _source.sub_issue                  32016 non-null  object \n",
      " 21  _source.consumer_consent_provided  77305 non-null  object \n",
      "dtypes: float64(1), object(21)\n",
      "memory usage: 13.1+ MB\n"
     ]
    }
   ],
   "source": [
    "dataset.info()"
   ]
  },
  {
   "cell_type": "markdown",
   "id": "0433469d-cf8b-4972-a379-d7577333da3a",
   "metadata": {},
   "source": [
    "Removing the following columns as they provide no real use for the problem:\n",
    " - `_index`\n",
    " - `_type`\n",
    " - `_id`\n",
    " - `_score`\n",
    " - `_source.tags`\n",
    " - `_source.complaint_id`\n",
    " - `_source.company_public_response`\n",
    "\n",
    "Also removing `_source.company` since the dataset contains only a single unique value and hence is unnecessary and `_source.company_public_response` since the column has only 4 non-null values."
   ]
  },
  {
   "cell_type": "code",
   "execution_count": 31,
   "id": "c0295800-e01b-4814-93f6-ac996b9664a1",
   "metadata": {},
   "outputs": [],
   "source": [
    "drop_list = ['_index', '_type', '_id', '_score', '_source.tags', '_source.complaint_id', '_source.company', '_source.company_public_response']\n",
    "dataset = dataset.drop(columns=drop_list)"
   ]
  },
  {
   "cell_type": "code",
   "execution_count": 32,
   "id": "e6ecb085-3420-4b4f-849a-e06ca512329f",
   "metadata": {},
   "outputs": [
    {
     "data": {
      "text/plain": [
       "Index(['zip_code', 'issue', 'date_received', 'state', 'consumer_disputed',\n",
       "       'product', 'company_response', 'submitted_via', 'date_sent_to_company',\n",
       "       'sub_product', 'timely', 'complaint_what_happened', 'sub_issue',\n",
       "       'consumer_consent_provided'],\n",
       "      dtype='object')"
      ]
     },
     "execution_count": 32,
     "metadata": {},
     "output_type": "execute_result"
    }
   ],
   "source": [
    "dataset.columns = dataset.columns.str.replace('_source.', '', regex=False)\n",
    "dataset.columns"
   ]
  },
  {
   "cell_type": "code",
   "execution_count": 33,
   "id": "93eac2eb-5115-46cf-b3dd-f5cf779db2d3",
   "metadata": {},
   "outputs": [],
   "source": [
    "dataset.replace(['', 'N/A'], pd.NA, inplace=True)"
   ]
  },
  {
   "cell_type": "code",
   "execution_count": 34,
   "id": "7e019941-b1c9-41e1-b7a0-bc5cc6c2baef",
   "metadata": {},
   "outputs": [
    {
     "name": "stdout",
     "output_type": "stream",
     "text": [
      "<class 'pandas.core.frame.DataFrame'>\n",
      "RangeIndex: 78313 entries, 0 to 78312\n",
      "Data columns (total 14 columns):\n",
      " #   Column                     Non-Null Count  Dtype \n",
      "---  ------                     --------------  ----- \n",
      " 0   zip_code                   71556 non-null  object\n",
      " 1   issue                      78313 non-null  object\n",
      " 2   date_received              78313 non-null  object\n",
      " 3   state                      76322 non-null  object\n",
      " 4   consumer_disputed          42630 non-null  object\n",
      " 5   product                    78313 non-null  object\n",
      " 6   company_response           78313 non-null  object\n",
      " 7   submitted_via              78313 non-null  object\n",
      " 8   date_sent_to_company       78313 non-null  object\n",
      " 9   sub_product                67742 non-null  object\n",
      " 10  timely                     78313 non-null  object\n",
      " 11  complaint_what_happened    21072 non-null  object\n",
      " 12  sub_issue                  32016 non-null  object\n",
      " 13  consumer_consent_provided  34458 non-null  object\n",
      "dtypes: object(14)\n",
      "memory usage: 8.4+ MB\n"
     ]
    }
   ],
   "source": [
    "dataset.info()"
   ]
  },
  {
   "cell_type": "code",
   "execution_count": 35,
   "id": "ef15cc94-4acf-4aa3-b5e4-56a60b631540",
   "metadata": {},
   "outputs": [
    {
     "name": "stdout",
     "output_type": "stream",
     "text": [
      "Column: 'zip_code': Null = 6757,Total missing percentage = 8.62819710648296\n",
      "Column: 'issue': Null = 0,Total missing percentage = 0.0\n",
      "Column: 'date_received': Null = 0,Total missing percentage = 0.0\n",
      "Column: 'state': Null = 1991,Total missing percentage = 2.542362059938963\n",
      "Column: 'consumer_disputed': Null = 35683,Total missing percentage = 45.5645933625324\n",
      "Column: 'product': Null = 0,Total missing percentage = 0.0\n",
      "Column: 'company_response': Null = 0,Total missing percentage = 0.0\n",
      "Column: 'submitted_via': Null = 0,Total missing percentage = 0.0\n",
      "Column: 'date_sent_to_company': Null = 0,Total missing percentage = 0.0\n",
      "Column: 'sub_product': Null = 10571,Total missing percentage = 13.498397456361014\n",
      "Column: 'timely': Null = 0,Total missing percentage = 0.0\n",
      "Column: 'complaint_what_happened': Null = 57241,Total missing percentage = 73.09258999144458\n",
      "Column: 'sub_issue': Null = 46297,Total missing percentage = 59.11789868859576\n",
      "Column: 'consumer_consent_provided': Null = 43855,Total missing percentage = 55.999642460383335\n"
     ]
    }
   ],
   "source": [
    "for column in dataset.columns:\n",
    "    null_count = dataset[column].isnull().sum()\n",
    "    percentage = (null_count/len(dataset))*100\n",
    "    print(f\"Column: '{column}': Null = {null_count},Total missing percentage = {percentage}\")"
   ]
  },
  {
   "cell_type": "code",
   "execution_count": 36,
   "id": "41c765b0-9ed0-4c32-baf7-872c70d1cc62",
   "metadata": {},
   "outputs": [
    {
     "data": {
      "text/plain": [
       "10827"
      ]
     },
     "execution_count": 36,
     "metadata": {},
     "output_type": "execute_result"
    }
   ],
   "source": [
    "# Checking number of rows with more than 3 null values:\n",
    "row_multiple_empty = dataset[dataset.isnull().sum(axis=1) > 3]\n",
    "len(row_multiple_empty)"
   ]
  },
  {
   "cell_type": "code",
   "execution_count": 37,
   "id": "b8a23201-9e97-499f-9513-540abb511b4a",
   "metadata": {},
   "outputs": [
    {
     "name": "stdout",
     "output_type": "stream",
     "text": [
      "<class 'pandas.core.frame.DataFrame'>\n",
      "Index: 67486 entries, 0 to 78312\n",
      "Data columns (total 14 columns):\n",
      " #   Column                     Non-Null Count  Dtype \n",
      "---  ------                     --------------  ----- \n",
      " 0   zip_code                   62780 non-null  object\n",
      " 1   issue                      67486 non-null  object\n",
      " 2   date_received              67486 non-null  object\n",
      " 3   state                      67378 non-null  object\n",
      " 4   consumer_disputed          35446 non-null  object\n",
      " 5   product                    67486 non-null  object\n",
      " 6   company_response           67486 non-null  object\n",
      " 7   submitted_via              67486 non-null  object\n",
      " 8   date_sent_to_company       67486 non-null  object\n",
      " 9   sub_product                63728 non-null  object\n",
      " 10  timely                     67486 non-null  object\n",
      " 11  complaint_what_happened    21032 non-null  object\n",
      " 12  sub_issue                  30772 non-null  object\n",
      " 13  consumer_consent_provided  34265 non-null  object\n",
      "dtypes: object(14)\n",
      "memory usage: 7.7+ MB\n"
     ]
    }
   ],
   "source": [
    "dataset = dataset.dropna(thresh=dataset.shape[1] - 3)\n",
    "dataset.info()"
   ]
  },
  {
   "cell_type": "code",
   "execution_count": 38,
   "id": "64732a54-306d-46cf-a135-f9dd65be7cc1",
   "metadata": {},
   "outputs": [
    {
     "name": "stdout",
     "output_type": "stream",
     "text": [
      "Column: 'zip_code': Null = 4706,Total missing percentage = 6.9732981655454465\n",
      "Column: 'issue': Null = 0,Total missing percentage = 0.0\n",
      "Column: 'date_received': Null = 0,Total missing percentage = 0.0\n",
      "Column: 'state': Null = 108,Total missing percentage = 0.16003319206946626\n",
      "Column: 'consumer_disputed': Null = 32040,Total missing percentage = 47.47651364727499\n",
      "Column: 'product': Null = 0,Total missing percentage = 0.0\n",
      "Column: 'company_response': Null = 0,Total missing percentage = 0.0\n",
      "Column: 'submitted_via': Null = 0,Total missing percentage = 0.0\n",
      "Column: 'date_sent_to_company': Null = 0,Total missing percentage = 0.0\n",
      "Column: 'sub_product': Null = 3758,Total missing percentage = 5.568562368491243\n",
      "Column: 'timely': Null = 0,Total missing percentage = 0.0\n",
      "Column: 'complaint_what_happened': Null = 46454,Total missing percentage = 68.8350176332869\n",
      "Column: 'sub_issue': Null = 36714,Total missing percentage = 54.402394570725775\n",
      "Column: 'consumer_consent_provided': Null = 33221,Total missing percentage = 49.22650623833091\n"
     ]
    }
   ],
   "source": [
    "for column in dataset.columns:\n",
    "    null_count = dataset[column].isnull().sum()\n",
    "    percentage = (null_count/len(dataset))*100\n",
    "    print(f\"Column: '{column}': Null = {null_count},Total missing percentage = {percentage}\")"
   ]
  },
  {
   "cell_type": "markdown",
   "id": "a63673eb-350d-4901-a3c4-80dd8111a5a6",
   "metadata": {},
   "source": [
    "As is evident, removing rows with more than 3 null values has greatly reduced the percentage of n null values for each column. Next removing rows that have null values in `zip_code`, `state` and `sub_product` columns."
   ]
  },
  {
   "cell_type": "code",
   "execution_count": 41,
   "id": "60b917e6-482d-4f9a-943d-155f6bc5c9f3",
   "metadata": {},
   "outputs": [
    {
     "name": "stdout",
     "output_type": "stream",
     "text": [
      "<class 'pandas.core.frame.DataFrame'>\n",
      "Index: 59544 entries, 0 to 78310\n",
      "Data columns (total 14 columns):\n",
      " #   Column                     Non-Null Count  Dtype \n",
      "---  ------                     --------------  ----- \n",
      " 0   zip_code                   59544 non-null  object\n",
      " 1   issue                      59544 non-null  object\n",
      " 2   date_received              59544 non-null  object\n",
      " 3   state                      59544 non-null  object\n",
      " 4   consumer_disputed          30711 non-null  object\n",
      " 5   product                    59544 non-null  object\n",
      " 6   company_response           59544 non-null  object\n",
      " 7   submitted_via              59544 non-null  object\n",
      " 8   date_sent_to_company       59544 non-null  object\n",
      " 9   sub_product                59544 non-null  object\n",
      " 10  timely                     59544 non-null  object\n",
      " 11  complaint_what_happened    14846 non-null  object\n",
      " 12  sub_issue                  27793 non-null  object\n",
      " 13  consumer_consent_provided  26408 non-null  object\n",
      "dtypes: object(14)\n",
      "memory usage: 6.8+ MB\n"
     ]
    }
   ],
   "source": [
    "dataset = dataset.dropna(subset=['zip_code', 'sub_product', 'state'])\n",
    "dataset.info()"
   ]
  },
  {
   "cell_type": "code",
   "execution_count": 42,
   "id": "5f28925b-b769-4bd6-8aac-58d44b966e95",
   "metadata": {},
   "outputs": [
    {
     "name": "stdout",
     "output_type": "stream",
     "text": [
      "Column: 'zip_code': Null = 0,Total missing percentage = 0.0\n",
      "Column: 'issue': Null = 0,Total missing percentage = 0.0\n",
      "Column: 'date_received': Null = 0,Total missing percentage = 0.0\n",
      "Column: 'state': Null = 0,Total missing percentage = 0.0\n",
      "Column: 'consumer_disputed': Null = 28833,Total missing percentage = 48.4230149133414\n",
      "Column: 'product': Null = 0,Total missing percentage = 0.0\n",
      "Column: 'company_response': Null = 0,Total missing percentage = 0.0\n",
      "Column: 'submitted_via': Null = 0,Total missing percentage = 0.0\n",
      "Column: 'date_sent_to_company': Null = 0,Total missing percentage = 0.0\n",
      "Column: 'sub_product': Null = 0,Total missing percentage = 0.0\n",
      "Column: 'timely': Null = 0,Total missing percentage = 0.0\n",
      "Column: 'complaint_what_happened': Null = 44698,Total missing percentage = 75.06717721348919\n",
      "Column: 'sub_issue': Null = 31751,Total missing percentage = 53.3235926373774\n",
      "Column: 'consumer_consent_provided': Null = 33136,Total missing percentage = 55.64960365444042\n"
     ]
    }
   ],
   "source": [
    "for column in dataset.columns:\n",
    "    null_count = dataset[column].isnull().sum()\n",
    "    percentage = (null_count/len(dataset))*100\n",
    "    print(f\"Column: '{column}': Null = {null_count},Total missing percentage = {percentage}\")"
   ]
  },
  {
   "cell_type": "code",
   "execution_count": null,
   "id": "f98e9891-3ec0-4839-b53a-6dc3f6e59f14",
   "metadata": {},
   "outputs": [],
   "source": []
  }
 ],
 "metadata": {
  "kernelspec": {
   "display_name": "Python 3 (ipykernel)",
   "language": "python",
   "name": "python3"
  },
  "language_info": {
   "codemirror_mode": {
    "name": "ipython",
    "version": 3
   },
   "file_extension": ".py",
   "mimetype": "text/x-python",
   "name": "python",
   "nbconvert_exporter": "python",
   "pygments_lexer": "ipython3",
   "version": "3.12.3"
  }
 },
 "nbformat": 4,
 "nbformat_minor": 5
}

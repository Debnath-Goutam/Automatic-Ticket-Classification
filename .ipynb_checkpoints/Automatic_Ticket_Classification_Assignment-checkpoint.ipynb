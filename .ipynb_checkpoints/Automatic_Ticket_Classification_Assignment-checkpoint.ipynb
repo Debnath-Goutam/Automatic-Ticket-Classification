{
 "cells": [
  {
   "cell_type": "markdown",
   "metadata": {
    "id": "rhR-ZUkwJrFn"
   },
   "source": [
    "## Problem Statement\n",
    "\n",
    "You need to build a model that is able to classify customer complaints based on the products/services. By doing so, you can segregate these tickets into their relevant categories and, therefore, help in the quick resolution of the issue.\n",
    "\n",
    "You will be doing topic modelling on the <b>.json</b> data provided by the company. Since this data is not labelled, you need to apply NMF to analyse patterns and classify tickets into the following five clusters based on their products/services:\n",
    "\n",
    "* Credit card / Prepaid card\n",
    "\n",
    "* Bank account services\n",
    "\n",
    "* Theft/Dispute reporting\n",
    "\n",
    "* Mortgages/loans\n",
    "\n",
    "* Others\n",
    "\n",
    "\n",
    "With the help of topic modelling, you will be able to map each ticket onto its respective department/category. You can then use this data to train any supervised model such as logistic regression, decision tree or random forest. Using this trained model, you can classify any new customer complaint support ticket into its relevant department."
   ]
  },
  {
   "cell_type": "markdown",
   "metadata": {
    "id": "mcgXVNyaLUFS"
   },
   "source": [
    "## Pipelines that needs to be performed:\n",
    "\n",
    "You need to perform the following eight major tasks to complete the assignment:\n",
    "\n",
    "1.  Data loading\n",
    "\n",
    "2. Text preprocessing\n",
    "\n",
    "3. Exploratory data analysis (EDA)\n",
    "\n",
    "4. Feature extraction\n",
    "\n",
    "5. Topic modelling\n",
    "\n",
    "6. Model building using supervised learning\n",
    "\n",
    "7. Model training and evaluation\n",
    "\n",
    "8. Model inference"
   ]
  },
  {
   "cell_type": "markdown",
   "metadata": {
    "id": "JuLFIymAL58u"
   },
   "source": [
    "# Importing the necessary libraries"
   ]
  },
  {
   "cell_type": "code",
   "execution_count": 1,
   "metadata": {
    "id": "O-Q9pqrcJrFr"
   },
   "outputs": [],
   "source": [
    "import json\n",
    "import numpy as np\n",
    "import pandas as pd\n",
    "import re, nltk, spacy, string\n",
    "import en_core_web_sm\n",
    "nlp = en_core_web_sm.load()\n",
    "import seaborn as sns\n",
    "import matplotlib.pyplot as plt\n",
    "%matplotlib inline\n",
    "\n",
    "from plotly.offline import plot\n",
    "import plotly.graph_objects as go\n",
    "import plotly.express as px\n",
    "\n",
    "from sklearn.feature_extraction.text import CountVectorizer, TfidfVectorizer\n",
    "from pprint import pprint"
   ]
  },
  {
   "cell_type": "markdown",
   "metadata": {
    "id": "KtRLCsNVJrFt"
   },
   "source": [
    "# Loading the data\n",
    "\n",
    "The data is in JSON format and we need to convert it to a dataframe."
   ]
  },
  {
   "cell_type": "code",
   "execution_count": 54,
   "metadata": {
    "id": "puVzIf_iJrFt"
   },
   "outputs": [],
   "source": [
    "f = 'complaints-2021-05-14_08_16.json'\n",
    "\n",
    "with open(f, 'r') as file:\n",
    "    data = json.load(file)\n",
    "    \n",
    "dataset=pd.json_normalize(data)"
   ]
  },
  {
   "cell_type": "markdown",
   "metadata": {
    "id": "_xYpH-sAJrFu"
   },
   "source": [
    "# Data Cleaning"
   ]
  },
  {
   "cell_type": "code",
   "execution_count": 76,
   "metadata": {
    "id": "Lf8ufHH5JrFu",
    "scrolled": true
   },
   "outputs": [
    {
     "data": {
      "text/plain": [
       "array(['Debt is not yours',\n",
       "       \"Didn't receive enough information to verify debt\",\n",
       "       'Problem with rewards from credit card', None,\n",
       "       'Charged too much interest', 'Problem using a debit or ATM card',\n",
       "       'Company closed your account', 'Cashing a check',\n",
       "       'Information belongs to someone else',\n",
       "       'Funds not handled or disbursed as instructed',\n",
       "       \"Credit inquiries on your report that you don't recognize\",\n",
       "       'Deposits and withdrawals',\n",
       "       'Funds not received from closed account',\n",
       "       'Denied request to lower payments',\n",
       "       'Account information incorrect',\n",
       "       'Problem while selling or giving up the vehicle',\n",
       "       \"Credit card company isn't resolving a dispute about a purchase on your statement\",\n",
       "       \"Didn't receive terms that were advertised\",\n",
       "       'Card opened as result of identity theft or fraud',\n",
       "       'Overdrafts and overdraft fees',\n",
       "       \"Can't use card to make purchases\",\n",
       "       'Problem during payment process', 'Problem accessing account',\n",
       "       \"Credit card company won't work with you while you're going through financial hardship\",\n",
       "       'Transaction was not authorized',\n",
       "       'Credit card company forcing arbitration', 'Debt was paid',\n",
       "       'Reporting company used your report improperly', 'Other problem',\n",
       "       'Confusing or misleading advertising about the credit card',\n",
       "       \"Didn't receive advertised or promotional terms\",\n",
       "       'Problem making or receiving payments',\n",
       "       'Card was charged for something you did not purchase with the card',\n",
       "       \"Didn't receive notice of right to dispute\",\n",
       "       'Their investigation did not fix an error on your report',\n",
       "       'Non-sufficient funds and associated fees',\n",
       "       'Unable to receive car title or other problem after the loan is paid off',\n",
       "       'Fee problem', 'Account status incorrect',\n",
       "       'Threatened or suggested your credit would be damaged',\n",
       "       'Problem when attempting to purchase vehicle at the end of the lease',\n",
       "       'Bounced checks or returned payments',\n",
       "       'Was not notified of investigation status or results',\n",
       "       'Public record information inaccurate', 'Billing problem',\n",
       "       'Debt was result of identity theft',\n",
       "       'Confusing or missing disclosures', 'Unable to open an account',\n",
       "       'You never received your bill or did not know a payment was due',\n",
       "       'Frequent or repeated calls', 'Banking errors',\n",
       "       'Collected or attempted to collect exempt funds',\n",
       "       'Lender trying to repossess or disable the vehicle',\n",
       "       \"Credit card company won't increase or decrease your credit limit\",\n",
       "       'Problem with fees',\n",
       "       'Need information about your loan balance or loan terms',\n",
       "       'Account opened as a result of fraud',\n",
       "       'Attempted to collect wrong amount',\n",
       "       'Delay in processing application',\n",
       "       'Old information reappears or never goes away',\n",
       "       'Excess mileage, damage, or wear fees, or other problem after the lease is finish',\n",
       "       'Overcharged for something you did purchase with the card',\n",
       "       'Application denied', 'Problem with convenience check',\n",
       "       'Difficulty submitting a dispute or getting information about a dispute over the phone',\n",
       "       'Fraudulent loan',\n",
       "       'Information is missing that should be on the report',\n",
       "       \"Can't close your account\", 'Problem with customer service',\n",
       "       'Problem getting your free annual credit report',\n",
       "       'Problem with the interest rate', 'Filed for bankruptcy',\n",
       "       \"Can't stop withdrawals from your account\",\n",
       "       'Problem with fees charged',\n",
       "       'Used obscene, profane, or other abusive language',\n",
       "       'Problem canceling credit monitoring or identify theft protection service',\n",
       "       'Problem with signing the paperwork',\n",
       "       'Problem with paying off the loan',\n",
       "       'You told them to stop contacting you, but they keep trying',\n",
       "       'Problem with personal statement of dispute',\n",
       "       'Talked to a third-party about your debt',\n",
       "       \"Can't temporarily postpone payments\",\n",
       "       'Other problem getting your report or credit score',\n",
       "       'Unexpected increase in interest rate',\n",
       "       'Add-on products and services', 'Deposits or withdrawals',\n",
       "       'Problem with renewal', 'Threatened to sue you for very old debt',\n",
       "       'Money was taken from your account on the wrong day or for the wrong amount',\n",
       "       'Trouble using the card to spend money in a store or online',\n",
       "       'Late or other fees',\n",
       "       'Problem with additional add-on products or services purchased with the loan',\n",
       "       'Report provided to employer without your written authorization',\n",
       "       'Problem with balance transfer',\n",
       "       \"Don't agree with the fees charged\", 'Privacy issues',\n",
       "       \"Notification didn't disclose it was an attempt to collect a debt\",\n",
       "       'Received bad information about your loan',\n",
       "       'Personal information incorrect', 'Problem related to refinancing',\n",
       "       'Sent card you never applied for',\n",
       "       'Right to dispute notice not received',\n",
       "       'Called after sent written cease of comm',\n",
       "       'Called outside of 8am-9pm',\n",
       "       'Talked to a third party about my debt', 'Debt is not mine',\n",
       "       'Debt was discharged in bankruptcy', 'Billing dispute',\n",
       "       \"Can't get flexible payment options\",\n",
       "       'Billing dispute for services',\n",
       "       'Received unwanted marketing or advertising',\n",
       "       'Trouble with how payments are being handled',\n",
       "       'Investigation took more than 30 days',\n",
       "       'Inadequate help over the phone',\n",
       "       'Trouble with how payments are handled',\n",
       "       'Not given enough info to verify debt',\n",
       "       'Used obscene/profane/abusive language',\n",
       "       'Received unsolicited financial product or insurance offers after opting out',\n",
       "       \"Don't want a card provided by your employer or the government\",\n",
       "       'Threatened to take legal action',\n",
       "       'Debt resulted from identity theft', 'Account status',\n",
       "       'Account terms', 'Contacted me after I asked not to',\n",
       "       'Report improperly shared by CRC',\n",
       "       'Contacted me instead of my attorney',\n",
       "       'Seized/Attempted to seize property',\n",
       "       'Threatened to sue on too old debt',\n",
       "       \"Indicated shouldn't respond to lawsuit\",\n",
       "       'Sued w/o proper notification of suit',\n",
       "       'Contacted employer after asked not to',\n",
       "       \"Can't decrease my monthly payments\",\n",
       "       'Keep getting calls about my loan', \"Can't qualify for a loan\",\n",
       "       'Fees charged for closing account',\n",
       "       'Information that should be on the report is missing',\n",
       "       'Seized or attempted to seize your property',\n",
       "       \"Card company isn't resolving a dispute about a purchase or transfer\",\n",
       "       'Changes in terms mid-deal or after closing',\n",
       "       'Indicated you were committing crime by not paying debt',\n",
       "       'Sued you without properly notifying you of lawsuit',\n",
       "       'Debt was already discharged in bankruptcy and is no longer owed',\n",
       "       'Problem using the card to withdraw money from an ATM',\n",
       "       'Threatened to arrest you or take you to jail if you do not pay',\n",
       "       'Trouble closing card',\n",
       "       'Sued you in a state where you do not live or did not sign for the debt',\n",
       "       'Termination fees or other problem when ending the lease early',\n",
       "       'Called before 8am or after 9pm',\n",
       "       'Problem with additional products or services purchased with the loan',\n",
       "       'Loan balance remaining after the vehicle is repossessed and sold',\n",
       "       'Problem lowering your monthly payments',\n",
       "       'Attempted to/Collected exempt funds',\n",
       "       'Problem with cash advances',\n",
       "       'Charged for a purchase or transfer you did not make with the card',\n",
       "       'High-pressure sales tactics',\n",
       "       'Problem getting a working replacement card',\n",
       "       'Loan sold or transferred to another company',\n",
       "       'Problem extending the lease',\n",
       "       'Changes in terms from what was offered or advertised',\n",
       "       'Credit denial', \"Didn't receive services that were advertised\",\n",
       "       'Problem with product or service terms changing',\n",
       "       'Confusing or misleading advertising or marketing',\n",
       "       'Problem with fees or penalties',\n",
       "       'Confusing or misleading advertising about the card',\n",
       "       'Having problems with customer service',\n",
       "       'Threatened arrest/jail if do not pay',\n",
       "       'Investigation took too long',\n",
       "       'Trouble getting, activating, or registering a card',\n",
       "       'Impersonated attorney, law enforcement, or government official',\n",
       "       \"Can't get other flexible options for repaying your loan\",\n",
       "       'Trouble getting a working replacement card',\n",
       "       'Incorrect information on your report',\n",
       "       'Impersonated an attorney or official',\n",
       "       'Reinserted previously deleted info', 'Information is incorrect',\n",
       "       'Contacted you after you asked them to stop',\n",
       "       \"Don't agree with fees charged\", 'Information is not mine',\n",
       "       'Not disclosed as an attempt to collect',\n",
       "       'No notice of investigation status/result',\n",
       "       'Received bad information about my loan',\n",
       "       'Problem with statement of dispute', 'Problem with a trade-in',\n",
       "       'Problem after you declared or threatened to declare bankruptcy',\n",
       "       'Account sold or transferred to another company',\n",
       "       'Indicated committed crime not paying',\n",
       "       'Overcharged for a purchase or transfer you did make with the card',\n",
       "       'Trouble getting information about the card',\n",
       "       'Report shared with employer w/o consent',\n",
       "       'Confusing or misleading advertising',\n",
       "       'Told you not to respond to a lawsuit they filed against you',\n",
       "       \"Sued where didn't live/sign for debt\",\n",
       "       'Need information about my balance/terms', 'Overdraft charges',\n",
       "       'Problem with fraud alerts', 'Personal information',\n",
       "       'Qualify for a better loan than offered',\n",
       "       'Problem with direct deposit',\n",
       "       'Trouble using the card to send money to another person',\n",
       "       'Problem getting report or credit score',\n",
       "       'Contacted your employer',\n",
       "       'Receiving unwanted marketing/advertising', 'Public record',\n",
       "       'Problem cancelling or closing account',\n",
       "       'Account terms and changes'], dtype=object)"
      ]
     },
     "execution_count": 76,
     "metadata": {},
     "output_type": "execute_result"
    }
   ],
   "source": [
    "dataset['_source.sub_issue'].unique()"
   ]
  },
  {
   "cell_type": "code",
   "execution_count": 56,
   "metadata": {
    "collapsed": true,
    "id": "Dwcty-wmJrFw",
    "jupyter": {
     "outputs_hidden": true
    }
   },
   "outputs": [
    {
     "data": {
      "text/plain": [
       "Index(['_index', '_type', '_id', '_score', '_source.tags', '_source.zip_code',\n",
       "       '_source.complaint_id', '_source.issue', '_source.date_received',\n",
       "       '_source.state', '_source.consumer_disputed', '_source.product',\n",
       "       '_source.company_response', '_source.company', '_source.submitted_via',\n",
       "       '_source.date_sent_to_company', '_source.company_public_response',\n",
       "       '_source.sub_product', '_source.timely',\n",
       "       '_source.complaint_what_happened', '_source.sub_issue',\n",
       "       '_source.consumer_consent_provided'],\n",
       "      dtype='object')"
      ]
     },
     "execution_count": 56,
     "metadata": {},
     "output_type": "execute_result"
    }
   ],
   "source": [
    "dataset.columns"
   ]
  },
  {
   "cell_type": "code",
   "execution_count": 57,
   "metadata": {},
   "outputs": [
    {
     "name": "stdout",
     "output_type": "stream",
     "text": [
      "<class 'pandas.core.frame.DataFrame'>\n",
      "RangeIndex: 78313 entries, 0 to 78312\n",
      "Data columns (total 22 columns):\n",
      " #   Column                             Non-Null Count  Dtype  \n",
      "---  ------                             --------------  -----  \n",
      " 0   _index                             78313 non-null  object \n",
      " 1   _type                              78313 non-null  object \n",
      " 2   _id                                78313 non-null  object \n",
      " 3   _score                             78313 non-null  float64\n",
      " 4   _source.tags                       10900 non-null  object \n",
      " 5   _source.zip_code                   71556 non-null  object \n",
      " 6   _source.complaint_id               78313 non-null  object \n",
      " 7   _source.issue                      78313 non-null  object \n",
      " 8   _source.date_received              78313 non-null  object \n",
      " 9   _source.state                      76322 non-null  object \n",
      " 10  _source.consumer_disputed          78313 non-null  object \n",
      " 11  _source.product                    78313 non-null  object \n",
      " 12  _source.company_response           78313 non-null  object \n",
      " 13  _source.company                    78313 non-null  object \n",
      " 14  _source.submitted_via              78313 non-null  object \n",
      " 15  _source.date_sent_to_company       78313 non-null  object \n",
      " 16  _source.company_public_response    4 non-null      object \n",
      " 17  _source.sub_product                67742 non-null  object \n",
      " 18  _source.timely                     78313 non-null  object \n",
      " 19  _source.complaint_what_happened    78313 non-null  object \n",
      " 20  _source.sub_issue                  32016 non-null  object \n",
      " 21  _source.consumer_consent_provided  77305 non-null  object \n",
      "dtypes: float64(1), object(21)\n",
      "memory usage: 13.1+ MB\n"
     ]
    }
   ],
   "source": [
    "dataset.info()"
   ]
  },
  {
   "cell_type": "markdown",
   "metadata": {},
   "source": [
    "Removing the following columns as they provide no real use for the problem:\n",
    " - `_index`\n",
    " - `_type`\n",
    " - `_id`\n",
    " - `_score`\n",
    " - `_source.tags`\n",
    " - `_source.complaint_id`\n",
    " - `_source.company_public_response`\n",
    "\n",
    "Also removing `_source.company` since the dataset contains only a single unique value and hence is unnecessary and `_source.company_public_response` since the column has only 4 non-null values."
   ]
  },
  {
   "cell_type": "code",
   "execution_count": 58,
   "metadata": {},
   "outputs": [],
   "source": [
    "drop_list = ['_index', '_type', '_id', '_score', '_source.tags', '_source.complaint_id', '_source.company', '_source.company_public_response']\n",
    "dataset = dataset.drop(columns=drop_list)"
   ]
  },
  {
   "cell_type": "code",
   "execution_count": 59,
   "metadata": {},
   "outputs": [
    {
     "data": {
      "text/plain": [
       "Index(['_source.zip_code', '_source.issue', '_source.date_received',\n",
       "       '_source.state', '_source.consumer_disputed', '_source.product',\n",
       "       '_source.company_response', '_source.submitted_via',\n",
       "       '_source.date_sent_to_company', '_source.sub_product', '_source.timely',\n",
       "       '_source.complaint_what_happened', '_source.sub_issue',\n",
       "       '_source.consumer_consent_provided'],\n",
       "      dtype='object')"
      ]
     },
     "execution_count": 59,
     "metadata": {},
     "output_type": "execute_result"
    }
   ],
   "source": [
    "dataset.columns"
   ]
  },
  {
   "cell_type": "code",
   "execution_count": 78,
   "metadata": {},
   "outputs": [],
   "source": [
    "dataset.replace(['', 'N/A'], pd.NA, inplace=True)"
   ]
  },
  {
   "cell_type": "code",
   "execution_count": 79,
   "metadata": {},
   "outputs": [
    {
     "name": "stdout",
     "output_type": "stream",
     "text": [
      "<class 'pandas.core.frame.DataFrame'>\n",
      "RangeIndex: 78313 entries, 0 to 78312\n",
      "Data columns (total 14 columns):\n",
      " #   Column                             Non-Null Count  Dtype \n",
      "---  ------                             --------------  ----- \n",
      " 0   _source.zip_code                   71556 non-null  object\n",
      " 1   _source.issue                      78313 non-null  object\n",
      " 2   _source.date_received              78313 non-null  object\n",
      " 3   _source.state                      76322 non-null  object\n",
      " 4   _source.consumer_disputed          42630 non-null  object\n",
      " 5   _source.product                    78313 non-null  object\n",
      " 6   _source.company_response           78313 non-null  object\n",
      " 7   _source.submitted_via              78313 non-null  object\n",
      " 8   _source.date_sent_to_company       78313 non-null  object\n",
      " 9   _source.sub_product                67742 non-null  object\n",
      " 10  _source.timely                     78313 non-null  object\n",
      " 11  _source.complaint_what_happened    21072 non-null  object\n",
      " 12  _source.sub_issue                  32016 non-null  object\n",
      " 13  _source.consumer_consent_provided  34458 non-null  object\n",
      "dtypes: object(14)\n",
      "memory usage: 8.4+ MB\n"
     ]
    }
   ],
   "source": [
    "dataset.info()"
   ]
  },
  {
   "cell_type": "code",
   "execution_count": 83,
   "metadata": {},
   "outputs": [
    {
     "name": "stdout",
     "output_type": "stream",
     "text": [
      "Column: '_source.zip_code': Null = 6757,Total missing percentage = 8.62819710648296\n",
      "Column: '_source.issue': Null = 0,Total missing percentage = 0.0\n",
      "Column: '_source.date_received': Null = 0,Total missing percentage = 0.0\n",
      "Column: '_source.state': Null = 1991,Total missing percentage = 2.542362059938963\n",
      "Column: '_source.consumer_disputed': Null = 35683,Total missing percentage = 45.5645933625324\n",
      "Column: '_source.product': Null = 0,Total missing percentage = 0.0\n",
      "Column: '_source.company_response': Null = 0,Total missing percentage = 0.0\n",
      "Column: '_source.submitted_via': Null = 0,Total missing percentage = 0.0\n",
      "Column: '_source.date_sent_to_company': Null = 0,Total missing percentage = 0.0\n",
      "Column: '_source.sub_product': Null = 10571,Total missing percentage = 13.498397456361014\n",
      "Column: '_source.timely': Null = 0,Total missing percentage = 0.0\n",
      "Column: '_source.complaint_what_happened': Null = 57241,Total missing percentage = 73.09258999144458\n",
      "Column: '_source.sub_issue': Null = 46297,Total missing percentage = 59.11789868859576\n",
      "Column: '_source.consumer_consent_provided': Null = 43855,Total missing percentage = 55.999642460383335\n"
     ]
    }
   ],
   "source": [
    "for column in dataset.columns:\n",
    "    null_count = dataset[column].isnull().sum()\n",
    "    percentage = (null_count/len(dataset))*100\n",
    "    print(f\"Column: '{column}': Null = {null_count},Total missing percentage = {percentage}\")"
   ]
  },
  {
   "cell_type": "code",
   "execution_count": 84,
   "metadata": {},
   "outputs": [
    {
     "data": {
      "text/plain": [
       "10827"
      ]
     },
     "execution_count": 84,
     "metadata": {},
     "output_type": "execute_result"
    }
   ],
   "source": [
    "row_multiple_empty = temp[temp.isnull().sum(axis=1) > 3]\n",
    "len(row_multiple_empty)"
   ]
  },
  {
   "cell_type": "code",
   "execution_count": 75,
   "metadata": {},
   "outputs": [
    {
     "data": {
      "text/html": [
       "<div>\n",
       "<style scoped>\n",
       "    .dataframe tbody tr th:only-of-type {\n",
       "        vertical-align: middle;\n",
       "    }\n",
       "\n",
       "    .dataframe tbody tr th {\n",
       "        vertical-align: top;\n",
       "    }\n",
       "\n",
       "    .dataframe thead th {\n",
       "        text-align: right;\n",
       "    }\n",
       "</style>\n",
       "<table border=\"1\" class=\"dataframe\">\n",
       "  <thead>\n",
       "    <tr style=\"text-align: right;\">\n",
       "      <th></th>\n",
       "      <th>_source.zip_code</th>\n",
       "      <th>_source.issue</th>\n",
       "      <th>_source.date_received</th>\n",
       "      <th>_source.state</th>\n",
       "      <th>_source.consumer_disputed</th>\n",
       "      <th>_source.product</th>\n",
       "      <th>_source.company_response</th>\n",
       "      <th>_source.submitted_via</th>\n",
       "      <th>_source.date_sent_to_company</th>\n",
       "      <th>_source.sub_product</th>\n",
       "      <th>_source.timely</th>\n",
       "      <th>_source.complaint_what_happened</th>\n",
       "      <th>_source.sub_issue</th>\n",
       "      <th>_source.consumer_consent_provided</th>\n",
       "    </tr>\n",
       "  </thead>\n",
       "  <tbody>\n",
       "    <tr>\n",
       "      <th>7</th>\n",
       "      <td>07753</td>\n",
       "      <td>Trouble during payment process</td>\n",
       "      <td>2019-05-15T12:00:00-05:00</td>\n",
       "      <td>NJ</td>\n",
       "      <td>&lt;NA&gt;</td>\n",
       "      <td>Mortgage</td>\n",
       "      <td>Closed with explanation</td>\n",
       "      <td>Referral</td>\n",
       "      <td>2019-05-21T12:00:00-05:00</td>\n",
       "      <td>Conventional home mortgage</td>\n",
       "      <td>Yes</td>\n",
       "      <td>&lt;NA&gt;</td>\n",
       "      <td>None</td>\n",
       "      <td>&lt;NA&gt;</td>\n",
       "    </tr>\n",
       "    <tr>\n",
       "      <th>18</th>\n",
       "      <td>47331</td>\n",
       "      <td>Struggling to pay mortgage</td>\n",
       "      <td>2017-08-22T12:00:00-05:00</td>\n",
       "      <td>IN</td>\n",
       "      <td>&lt;NA&gt;</td>\n",
       "      <td>Mortgage</td>\n",
       "      <td>Closed with explanation</td>\n",
       "      <td>Referral</td>\n",
       "      <td>2017-08-23T12:00:00-05:00</td>\n",
       "      <td>Other type of mortgage</td>\n",
       "      <td>Yes</td>\n",
       "      <td>&lt;NA&gt;</td>\n",
       "      <td>None</td>\n",
       "      <td>&lt;NA&gt;</td>\n",
       "    </tr>\n",
       "    <tr>\n",
       "      <th>41</th>\n",
       "      <td>None</td>\n",
       "      <td>Managing an account</td>\n",
       "      <td>2019-05-21T12:00:00-05:00</td>\n",
       "      <td>None</td>\n",
       "      <td>&lt;NA&gt;</td>\n",
       "      <td>Checking or savings account</td>\n",
       "      <td>Closed with explanation</td>\n",
       "      <td>Phone</td>\n",
       "      <td>2019-05-21T12:00:00-05:00</td>\n",
       "      <td>Checking account</td>\n",
       "      <td>Yes</td>\n",
       "      <td>&lt;NA&gt;</td>\n",
       "      <td>Problem using a debit or ATM card</td>\n",
       "      <td>&lt;NA&gt;</td>\n",
       "    </tr>\n",
       "    <tr>\n",
       "      <th>51</th>\n",
       "      <td>None</td>\n",
       "      <td>Closing an account</td>\n",
       "      <td>2019-06-27T12:00:00-05:00</td>\n",
       "      <td>None</td>\n",
       "      <td>&lt;NA&gt;</td>\n",
       "      <td>Checking or savings account</td>\n",
       "      <td>Closed with explanation</td>\n",
       "      <td>Phone</td>\n",
       "      <td>2019-06-27T12:00:00-05:00</td>\n",
       "      <td>Checking account</td>\n",
       "      <td>Yes</td>\n",
       "      <td>&lt;NA&gt;</td>\n",
       "      <td>Company closed your account</td>\n",
       "      <td>&lt;NA&gt;</td>\n",
       "    </tr>\n",
       "    <tr>\n",
       "      <th>54</th>\n",
       "      <td>93536</td>\n",
       "      <td>Applying for a mortgage or refinancing an exis...</td>\n",
       "      <td>2017-07-21T12:00:00-05:00</td>\n",
       "      <td>CA</td>\n",
       "      <td>&lt;NA&gt;</td>\n",
       "      <td>Mortgage</td>\n",
       "      <td>Closed with explanation</td>\n",
       "      <td>Referral</td>\n",
       "      <td>2017-07-21T12:00:00-05:00</td>\n",
       "      <td>Conventional home mortgage</td>\n",
       "      <td>Yes</td>\n",
       "      <td>&lt;NA&gt;</td>\n",
       "      <td>None</td>\n",
       "      <td>&lt;NA&gt;</td>\n",
       "    </tr>\n",
       "  </tbody>\n",
       "</table>\n",
       "</div>"
      ],
      "text/plain": [
       "   _source.zip_code                                      _source.issue  \\\n",
       "7             07753                     Trouble during payment process   \n",
       "18            47331                         Struggling to pay mortgage   \n",
       "41             None                                Managing an account   \n",
       "51             None                                 Closing an account   \n",
       "54            93536  Applying for a mortgage or refinancing an exis...   \n",
       "\n",
       "        _source.date_received _source.state _source.consumer_disputed  \\\n",
       "7   2019-05-15T12:00:00-05:00            NJ                      <NA>   \n",
       "18  2017-08-22T12:00:00-05:00            IN                      <NA>   \n",
       "41  2019-05-21T12:00:00-05:00          None                      <NA>   \n",
       "51  2019-06-27T12:00:00-05:00          None                      <NA>   \n",
       "54  2017-07-21T12:00:00-05:00            CA                      <NA>   \n",
       "\n",
       "                _source.product _source.company_response  \\\n",
       "7                      Mortgage  Closed with explanation   \n",
       "18                     Mortgage  Closed with explanation   \n",
       "41  Checking or savings account  Closed with explanation   \n",
       "51  Checking or savings account  Closed with explanation   \n",
       "54                     Mortgage  Closed with explanation   \n",
       "\n",
       "   _source.submitted_via _source.date_sent_to_company  \\\n",
       "7               Referral    2019-05-21T12:00:00-05:00   \n",
       "18              Referral    2017-08-23T12:00:00-05:00   \n",
       "41                 Phone    2019-05-21T12:00:00-05:00   \n",
       "51                 Phone    2019-06-27T12:00:00-05:00   \n",
       "54              Referral    2017-07-21T12:00:00-05:00   \n",
       "\n",
       "           _source.sub_product _source.timely _source.complaint_what_happened  \\\n",
       "7   Conventional home mortgage            Yes                            <NA>   \n",
       "18      Other type of mortgage            Yes                            <NA>   \n",
       "41            Checking account            Yes                            <NA>   \n",
       "51            Checking account            Yes                            <NA>   \n",
       "54  Conventional home mortgage            Yes                            <NA>   \n",
       "\n",
       "                    _source.sub_issue _source.consumer_consent_provided  \n",
       "7                                None                              <NA>  \n",
       "18                               None                              <NA>  \n",
       "41  Problem using a debit or ATM card                              <NA>  \n",
       "51        Company closed your account                              <NA>  \n",
       "54                               None                              <NA>  "
      ]
     },
     "execution_count": 75,
     "metadata": {},
     "output_type": "execute_result"
    }
   ],
   "source": [
    "row_multiple_empty.head()"
   ]
  },
  {
   "cell_type": "code",
   "execution_count": 30,
   "metadata": {},
   "outputs": [
    {
     "data": {
      "text/plain": [
       "array(['',\n",
       "       'Good morning my name is XXXX XXXX and I appreciate it if you could help me put a stop to Chase Bank cardmember services. \\nIn 2018 I wrote to Chase asking for debt verification and what they sent me a statement which is not acceptable. I am asking the bank to validate the debt. Instead I been receiving mail every month from them attempting to collect a debt. \\nI have a right to know this information as a consumer. \\n\\nChase account # XXXX XXXX XXXX XXXX Thanks in advance for your help.',\n",
       "       'I upgraded my XXXX XXXX card in XX/XX/2018 and was told by the agent who did the upgrade my anniversary date would not change. It turned the agent was giving me the wrong information in order to upgrade the account. XXXX   changed my anniversary date from XX/XX/XXXX to XX/XX/XXXX without my consent! XXXX has the recording of the agent who was misled me.',\n",
       "       ...,\n",
       "       'I am not familiar with XXXX pay and did not understand the great risk this provides to consumers. I believed this to be safe as it was through my Chase bank app. I have been with Chase for almost 20 years and trust their mobile banking and now am sadly regretful. I am being told to deal with the merchant except the merchant has refused to answer my inquiries and now shut down communication. The website of the said merchant looks entirely legitamite and is even using the faces of highly successful brands with individuals linked to their social media without their consent. In performing research of the phone number and other associated information available through PI it is very clear this merchant is continually creating new account title holders to perpetuate this cycle of fraud. Furthermore as this is a non fixed voip being used I believe they are fraudulently using the identity of the real XXXX XXXX Chase Bank told me they wouldnt even investigate, report this to XXXX or allow me to file a report or take any potential recourse for the matter. There isnt even a protocol in place to address this issue yet! The chase mobile app verbiage makes a point to deceptively position this app as under the branch of Chase banking service and as such, imply a degree of entitlement to its customer service protection protocols. Chase has your back which reads on the very same link as the XXXX tab ... .is most certainly not true. This places consumers at risk when using this mobile service and does not flag the concern of Chase in the slightest. At minimum the risk of using XXXX on your mobile banking app must realistically be made aware to the public as it stands to be potentially devastating I have plans to file reports with all corresponding authorities as well as notify and contact the individual whose identity is being misused to inform him. I also intend to urge My neighbor who works in television that the news network should perhaps present the risk of using XXXX and XXXX integrated banking apps to the public. I understand fraud and scamming are overwhelming rampant but a banking mogul such as Chase not having any recourse of action is simply a risk that needs to Be disclosed more throughly. I would not have clicked on the to link to the extent I did if I would have been better informed.',\n",
       "       'I have had flawless credit for 30 yrs. I\\'ve had Chase credit cards, \" Chase Freedom \\'\\' specifically since XXXX with no problems ever. I\\'ve done many balance transfers in my life, so I have plenty of experience. I recently did a balance transfer with Chase Freedom for {$9000.00} ( did many with other Chase cards, but apparently not \" Freeedom \\'\\' ) When I got my first bill, my minimum payment was {$470.00}. I was SHOCKED. I immediately called on XX/XX/XXXX. The representative told me that the min payment was so high bc they were making me pay the \" Balance transfer fee \\'\\' up front, but my future payments would be around {$90.00}, 1 % of total balance ( which is standard, AND the rate THEY ADVERTISE ) I went to pay the next payment on XX/XX/XXXX & was once again SHOCKED to see my minimum payment was {$440.00}. I paid it, but I have been trying to work this out with Chase ever since. Apparently, the representative was WRONG & I am actually expected to pay 5 %, instead of the standard 1 % they normally charge, bc that was written in my \" user agreement \\'\\' paperwork back in XX/XX/XXXX!! 28 years ago!!! They currently charge 1 % to everyone else in the world. My other cards, including Chase, are all 1 %. This {$440.00} is an unreasonable amt to expect someone to pay for 1 credit card. I have kids & many other bills to pay. They never warned me they were so \" off the charts \\'\\' with their minimum payment percentage, ( except for my original paperwork in XX/XX/XXXX ). They offer everyone else 1 % terms. They change THEIR \" terms \\'\\' anytime it benefits THEM, but won\\'t budge to lower it to make this payment more affordable & reasonable. So, I also asked them ( as soon as I found this out ) to refund my {$360.00} transfer fee so I could use it to transfer the balance to a different card with a more reasonable minimum payment. They refused. I also asked if they would transfer to my CHASE SLATE card, which has 1 % min pmt, they also refused. They will not work with me at all. I am a responsible working person. I would like to preserve my good credit. I could easily transfer again to a different card, but I\\'d have to pay another lump sum of $ again.',\n",
       "       'Roughly 10+ years ago I closed out my accounts with JP Morgan Chase Bank XXXX in order to close out an unsecured line of credit I had to pay it off. I did that to close out my account roughly {$500.00} payment when I closed out the accounts, and now I get this late payment that showed up on my credit report after 10+ years stating I owe close to {$900.00} dollars. I have never had any payment schedules or notifications in the 10+ years because I paid it off. Upon calling them I am told I need to show proof I paid it off. I would like to think that if indeed I had not paid it off ( which I did ) I would have immediately received late payment notifications. I left Chase bank because of some poor customer service and charges that were way out of line with the other banking institutions.'],\n",
       "      dtype=object)"
      ]
     },
     "execution_count": 30,
     "metadata": {},
     "output_type": "execute_result"
    }
   ],
   "source": [
    "# Viewing some unique values of _source.complaint_what_happened\n",
    "\n",
    "dataset['_source.complaint_what_happened'].unique()"
   ]
  },
  {
   "cell_type": "markdown",
   "metadata": {},
   "source": [
    "As suspected, some rows have empty strings as values for `_source.complaint_what_happened`"
   ]
  },
  {
   "cell_type": "code",
   "execution_count": 36,
   "metadata": {},
   "outputs": [
    {
     "data": {
      "text/plain": [
       "57241"
      ]
     },
     "execution_count": 36,
     "metadata": {},
     "output_type": "execute_result"
    }
   ],
   "source": [
    "len([x for x in dataset['_source.complaint_what_happened'] if x==''])"
   ]
  },
  {
   "cell_type": "code",
   "execution_count": 33,
   "metadata": {},
   "outputs": [
    {
     "data": {
      "text/plain": [
       "78313"
      ]
     },
     "execution_count": 33,
     "metadata": {},
     "output_type": "execute_result"
    }
   ],
   "source": [
    "len(dataset)"
   ]
  },
  {
   "cell_type": "code",
   "execution_count": null,
   "metadata": {
    "id": "FYCtKXD1JrFw"
   },
   "outputs": [],
   "source": [
    "#Assign new column names\n"
   ]
  },
  {
   "cell_type": "code",
   "execution_count": null,
   "metadata": {
    "id": "grQUPFL5JrFx"
   },
   "outputs": [],
   "source": [
    "#Assign nan in place of blanks in the complaints column\n"
   ]
  },
  {
   "cell_type": "code",
   "execution_count": null,
   "metadata": {
    "id": "Jfxd8VSmJrFy"
   },
   "outputs": [],
   "source": [
    "#Remove all rows where complaints column is nan\n"
   ]
  },
  {
   "cell_type": "markdown",
   "metadata": {
    "id": "L944HZpsJrFy"
   },
   "source": [
    "## Prepare the text for topic modeling\n",
    "\n",
    "Once you have removed all the blank complaints, you need to:\n",
    "\n",
    "* Make the text lowercase\n",
    "* Remove text in square brackets\n",
    "* Remove punctuation\n",
    "* Remove words containing numbers\n",
    "\n",
    "\n",
    "Once you have done these cleaning operations you need to perform the following:\n",
    "* Lemmatize the texts\n",
    "* Extract the POS tags of the lemmatized text and remove all the words which have tags other than NN[tag == \"NN\"].\n"
   ]
  },
  {
   "cell_type": "code",
   "execution_count": null,
   "metadata": {
    "id": "qm7SjjSkJrFz"
   },
   "outputs": [],
   "source": [
    "# Write your function here to clean the text and remove all the unnecessary elements.\n"
   ]
  },
  {
   "cell_type": "code",
   "execution_count": null,
   "metadata": {
    "id": "zgOu8t8HJrFz"
   },
   "outputs": [],
   "source": [
    "#Write your function to Lemmatize the texts\n"
   ]
  },
  {
   "cell_type": "code",
   "execution_count": null,
   "metadata": {
    "id": "uXnN7aa_JrF0"
   },
   "outputs": [],
   "source": [
    "#Create a dataframe('df_clean') that will have only the complaints and the lemmatized complaints\n"
   ]
  },
  {
   "cell_type": "code",
   "execution_count": null,
   "metadata": {
    "id": "nOiDVvEIJrF0"
   },
   "outputs": [],
   "source": [
    "df_clean"
   ]
  },
  {
   "cell_type": "code",
   "execution_count": null,
   "metadata": {
    "id": "Kk7fc4DuJrF1"
   },
   "outputs": [],
   "source": [
    "#Write your function to extract the POS tags\n",
    "\n",
    "def pos_tag(text):\n",
    "  # write your code here\n",
    "\n",
    "\n",
    "\n",
    "df_clean[\"complaint_POS_removed\"] =  #this column should contain lemmatized text with all the words removed which have tags other than NN[tag == \"NN\"].\n"
   ]
  },
  {
   "cell_type": "code",
   "execution_count": null,
   "metadata": {
    "id": "AjxfchvFJrF2"
   },
   "outputs": [],
   "source": [
    "#The clean dataframe should now contain the raw complaint, lemmatized complaint and the complaint after removing POS tags.\n",
    "df_clean"
   ]
  },
  {
   "cell_type": "markdown",
   "metadata": {
    "id": "_7Un1AElJrF2"
   },
   "source": [
    "## Exploratory data analysis to get familiar with the data.\n",
    "\n",
    "Write the code in this task to perform the following:\n",
    "\n",
    "*   Visualise the data according to the 'Complaint' character length\n",
    "*   Using a word cloud find the top 40 words by frequency among all the articles after processing the text\n",
    "*   Find the top unigrams,bigrams and trigrams by frequency among all the complaints after processing the text. ‘\n",
    "\n",
    "\n"
   ]
  },
  {
   "cell_type": "code",
   "execution_count": null,
   "metadata": {
    "id": "q-zaqJF6JrF2"
   },
   "outputs": [],
   "source": [
    "# Write your code here to visualise the data according to the 'Complaint' character length"
   ]
  },
  {
   "cell_type": "markdown",
   "metadata": {
    "id": "T9jD_6SeJrF3"
   },
   "source": [
    "#### Find the top 40 words by frequency among all the articles after processing the text."
   ]
  },
  {
   "cell_type": "code",
   "execution_count": null,
   "metadata": {
    "id": "QcfdvtfZJrF3"
   },
   "outputs": [],
   "source": [
    "#Using a word cloud find the top 40 words by frequency among all the articles after processing the text\n"
   ]
  },
  {
   "cell_type": "code",
   "execution_count": null,
   "metadata": {
    "id": "OkSmc3UaJrF4"
   },
   "outputs": [],
   "source": [
    "#Removing -PRON- from the text corpus\n",
    "df_clean['Complaint_clean'] = df_clean['complaint_POS_removed'].str.replace('-PRON-', '')"
   ]
  },
  {
   "cell_type": "markdown",
   "metadata": {
    "id": "5DfCSbbmJrF4"
   },
   "source": [
    "#### Find the top unigrams,bigrams and trigrams by frequency among all the complaints after processing the text."
   ]
  },
  {
   "cell_type": "code",
   "execution_count": null,
   "metadata": {
    "id": "5mbk5DS5JrF4"
   },
   "outputs": [],
   "source": [
    "#Write your code here to find the top 30 unigram frequency among the complaints in the cleaned datafram(df_clean).\n"
   ]
  },
  {
   "cell_type": "code",
   "execution_count": null,
   "metadata": {
    "id": "YX7fedm1JrF8"
   },
   "outputs": [],
   "source": [
    "#Print the top 10 words in the unigram frequency\n"
   ]
  },
  {
   "cell_type": "code",
   "execution_count": null,
   "metadata": {
    "id": "aV7kD7w8JrF8"
   },
   "outputs": [],
   "source": [
    "#Write your code here to find the top 30 bigram frequency among the complaints in the cleaned datafram(df_clean).\n"
   ]
  },
  {
   "cell_type": "code",
   "execution_count": null,
   "metadata": {
    "id": "NPnMNIpyJrF9"
   },
   "outputs": [],
   "source": [
    "#Print the top 10 words in the bigram frequency"
   ]
  },
  {
   "cell_type": "code",
   "execution_count": null,
   "metadata": {
    "id": "Xkh7vtbtJrF-"
   },
   "outputs": [],
   "source": [
    "#Write your code here to find the top 30 trigram frequency among the complaints in the cleaned datafram(df_clean).\n"
   ]
  },
  {
   "cell_type": "code",
   "execution_count": null,
   "metadata": {
    "id": "REcVxNfvJrF-"
   },
   "outputs": [],
   "source": [
    "#Print the top 10 words in the trigram frequency"
   ]
  },
  {
   "cell_type": "markdown",
   "metadata": {
    "id": "yUXzFji0JrF_"
   },
   "source": [
    "## The personal details of customer has been masked in the dataset with xxxx. Let's remove the masked text as this will be of no use for our analysis"
   ]
  },
  {
   "cell_type": "code",
   "execution_count": null,
   "metadata": {
    "id": "wKda-a_IJrF_"
   },
   "outputs": [],
   "source": [
    "df_clean['Complaint_clean'] = df_clean['Complaint_clean'].str.replace('xxxx','')"
   ]
  },
  {
   "cell_type": "code",
   "execution_count": null,
   "metadata": {
    "id": "9UIFk8fQJrF_"
   },
   "outputs": [],
   "source": [
    "#All masked texts has been removed\n",
    "df_clean"
   ]
  },
  {
   "cell_type": "markdown",
   "metadata": {
    "id": "k-I0k0QtJrGA"
   },
   "source": [
    "## Feature Extraction\n",
    "Convert the raw texts to a matrix of TF-IDF features\n",
    "\n",
    "**max_df** is used for removing terms that appear too frequently, also known as \"corpus-specific stop words\"\n",
    "max_df = 0.95 means \"ignore terms that appear in more than 95% of the complaints\"\n",
    "\n",
    "**min_df** is used for removing terms that appear too infrequently\n",
    "min_df = 2 means \"ignore terms that appear in less than 2 complaints\""
   ]
  },
  {
   "cell_type": "code",
   "execution_count": null,
   "metadata": {
    "id": "Y8fGwaCPJrGA"
   },
   "outputs": [],
   "source": [
    "#Write your code here to initialise the TfidfVectorizer\n",
    "\n"
   ]
  },
  {
   "cell_type": "markdown",
   "metadata": {
    "id": "yYzD85nTJrGA"
   },
   "source": [
    "#### Create a document term matrix using fit_transform\n",
    "\n",
    "The contents of a document term matrix are tuples of (complaint_id,token_id) tf-idf score:\n",
    "The tuples that are not there have a tf-idf score of 0"
   ]
  },
  {
   "cell_type": "code",
   "execution_count": null,
   "metadata": {
    "id": "ffzdDpp_JrGB"
   },
   "outputs": [],
   "source": [
    "#Write your code here to create the Document Term Matrix by transforming the complaints column present in df_clean.\n"
   ]
  },
  {
   "cell_type": "markdown",
   "metadata": {
    "id": "7Q9lwvNEJrGB"
   },
   "source": [
    "## Topic Modelling using NMF\n",
    "\n",
    "Non-Negative Matrix Factorization (NMF) is an unsupervised technique so there are no labeling of topics that the model will be trained on. The way it works is that, NMF decomposes (or factorizes) high-dimensional vectors into a lower-dimensional representation. These lower-dimensional vectors are non-negative which also means their coefficients are non-negative.\n",
    "\n",
    "In this task you have to perform the following:\n",
    "\n",
    "* Find the best number of clusters\n",
    "* Apply the best number to create word clusters\n",
    "* Inspect & validate the correction of each cluster wrt the complaints\n",
    "* Correct the labels if needed\n",
    "* Map the clusters to topics/cluster names"
   ]
  },
  {
   "cell_type": "code",
   "execution_count": null,
   "metadata": {
    "id": "amLT4omWJrGB"
   },
   "outputs": [],
   "source": [
    "from sklearn.decomposition import NMF"
   ]
  },
  {
   "cell_type": "markdown",
   "metadata": {
    "id": "0wYR1xUTJrGD"
   },
   "source": [
    "## Manual Topic Modeling\n",
    "You need to do take the trial & error approach to find the best num of topics for your NMF model.\n",
    "\n",
    "The only parameter that is required is the number of components i.e. the number of topics we want. This is the most crucial step in the whole topic modeling process and will greatly affect how good your final topics are."
   ]
  },
  {
   "cell_type": "code",
   "execution_count": null,
   "metadata": {
    "id": "sgd2A6bhJrGD"
   },
   "outputs": [],
   "source": [
    "#Load your nmf_model with the n_components i.e 5\n",
    "num_topics = #write the value you want to test out\n",
    "\n",
    "#keep the random_state =40\n",
    "nmf_model = #write your code here"
   ]
  },
  {
   "cell_type": "code",
   "execution_count": null,
   "metadata": {
    "id": "VPMDYbt_JrGE"
   },
   "outputs": [],
   "source": [
    "nmf_model.fit(dtm)\n",
    "len(tfidf.get_feature_names())"
   ]
  },
  {
   "cell_type": "code",
   "execution_count": null,
   "metadata": {
    "id": "16kRfat5JrGE"
   },
   "outputs": [],
   "source": [
    "#Print the Top15 words for each of the topics\n"
   ]
  },
  {
   "cell_type": "code",
   "execution_count": null,
   "metadata": {
    "id": "0OIT7LmFJrGF"
   },
   "outputs": [],
   "source": [
    "#Create the best topic for each complaint in terms of integer value 0,1,2,3 & 4\n",
    "\n"
   ]
  },
  {
   "cell_type": "code",
   "execution_count": null,
   "metadata": {
    "id": "peyYv-ORJrGF"
   },
   "outputs": [],
   "source": [
    "#Assign the best topic to each of the cmplaints in Topic Column\n",
    "\n",
    "df_clean['Topic'] = #write your code to assign topics to each rows."
   ]
  },
  {
   "cell_type": "code",
   "execution_count": null,
   "metadata": {
    "id": "fLh_Gf3nJrGF"
   },
   "outputs": [],
   "source": [
    "df_clean.head()"
   ]
  },
  {
   "cell_type": "code",
   "execution_count": null,
   "metadata": {
    "id": "aQKpufSPJrGG"
   },
   "outputs": [],
   "source": [
    "#Print the first 5 Complaint for each of the Topics\n",
    "df_clean=df_clean.groupby('Topic').head(5)\n",
    "df_clean.sort_values('Topic')"
   ]
  },
  {
   "cell_type": "markdown",
   "metadata": {
    "id": "piyLxzj6v07j"
   },
   "source": [
    "#### After evaluating the mapping, if the topics assigned are correct then assign these names to the relevant topic:\n",
    "* Bank Account services\n",
    "* Credit card or prepaid card\n",
    "* Theft/Dispute Reporting\n",
    "* Mortgage/Loan\n",
    "* Others"
   ]
  },
  {
   "cell_type": "code",
   "execution_count": null,
   "metadata": {
    "id": "TWpwDG4RJrGG"
   },
   "outputs": [],
   "source": [
    "#Create the dictionary of Topic names and Topics\n",
    "\n",
    "Topic_names = {   }\n",
    "#Replace Topics with Topic Names\n",
    "df_clean['Topic'] = df_clean['Topic'].map(Topic_names)"
   ]
  },
  {
   "cell_type": "code",
   "execution_count": null,
   "metadata": {
    "id": "-2ULY5K6JrGG"
   },
   "outputs": [],
   "source": [
    "df_clean"
   ]
  },
  {
   "cell_type": "markdown",
   "metadata": {
    "id": "7Mu0QBOcJrGH"
   },
   "source": [
    "## Supervised model to predict any new complaints to the relevant Topics.\n",
    "\n",
    "You have now build the model to create the topics for each complaints.Now in the below section you will use them to classify any new complaints.\n",
    "\n",
    "Since you will be using supervised learning technique we have to convert the topic names to numbers(numpy arrays only understand numbers)"
   ]
  },
  {
   "cell_type": "code",
   "execution_count": null,
   "metadata": {
    "id": "_U8J3J8wJrGH"
   },
   "outputs": [],
   "source": [
    "#Create the dictionary again of Topic names and Topics\n",
    "\n",
    "Topic_names = {   }\n",
    "#Replace Topics with Topic Names\n",
    "df_clean['Topic'] = df_clean['Topic'].map(Topic_names)"
   ]
  },
  {
   "cell_type": "code",
   "execution_count": null,
   "metadata": {
    "id": "BWIgJUkQJrGH"
   },
   "outputs": [],
   "source": [
    "df_clean"
   ]
  },
  {
   "cell_type": "code",
   "execution_count": null,
   "metadata": {
    "id": "Xx-FrbkWJrGH"
   },
   "outputs": [],
   "source": [
    "#Keep the columns\"complaint_what_happened\" & \"Topic\" only in the new dataframe --> training_data\n",
    "training_data="
   ]
  },
  {
   "cell_type": "code",
   "execution_count": null,
   "metadata": {
    "id": "lVg2pa12JrGI"
   },
   "outputs": [],
   "source": [
    "training_data"
   ]
  },
  {
   "cell_type": "markdown",
   "metadata": {
    "id": "280Vbqk-7a8M"
   },
   "source": [
    "####Apply the supervised models on the training data created. In this process, you have to do the following:\n",
    "* Create the vector counts using Count Vectoriser\n",
    "* Transform the word vecotr to tf-idf\n",
    "* Create the train & test data using the train_test_split on the tf-idf & topics\n"
   ]
  },
  {
   "cell_type": "code",
   "execution_count": null,
   "metadata": {
    "id": "oUlQpgkzJrGI"
   },
   "outputs": [],
   "source": [
    "\n",
    "#Write your code to get the Vector count\n",
    "\n",
    "\n",
    "#Write your code here to transform the word vector to tf-idf"
   ]
  },
  {
   "cell_type": "markdown",
   "metadata": {
    "id": "uMU3vj6w-wqL"
   },
   "source": [
    "You have to try atleast 3 models on the train & test data from these options:\n",
    "* Logistic regression\n",
    "* Decision Tree\n",
    "* Random Forest\n",
    "* Naive Bayes (optional)\n",
    "\n",
    "**Using the required evaluation metrics judge the tried models and select the ones performing the best**"
   ]
  },
  {
   "cell_type": "code",
   "execution_count": null,
   "metadata": {
    "id": "udLHpPsZJrGI"
   },
   "outputs": [],
   "source": [
    "# Write your code here to build any 3 models and evaluate them using the required metrics\n",
    "\n",
    "\n",
    "\n"
   ]
  },
  {
   "cell_type": "code",
   "execution_count": null,
   "metadata": {
    "id": "N2OznsObJrGP"
   },
   "outputs": [],
   "source": []
  }
 ],
 "metadata": {
  "colab": {
   "collapsed_sections": [
    "T9jD_6SeJrF3",
    "5DfCSbbmJrF4",
    "yYzD85nTJrGA",
    "piyLxzj6v07j",
    "280Vbqk-7a8M"
   ],
   "provenance": []
  },
  "kernelspec": {
   "display_name": "Python 3 (ipykernel)",
   "language": "python",
   "name": "python3"
  },
  "language_info": {
   "codemirror_mode": {
    "name": "ipython",
    "version": 3
   },
   "file_extension": ".py",
   "mimetype": "text/x-python",
   "name": "python",
   "nbconvert_exporter": "python",
   "pygments_lexer": "ipython3",
   "version": "3.12.3"
  }
 },
 "nbformat": 4,
 "nbformat_minor": 4
}
